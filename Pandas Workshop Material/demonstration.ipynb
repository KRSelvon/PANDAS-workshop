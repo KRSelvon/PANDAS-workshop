{
 "cells": [
  {
   "cell_type": "markdown",
   "metadata": {},
   "source": [
    "## FEEG6003 Introduction to Pandas demonstration"
   ]
  },
  {
   "cell_type": "markdown",
   "metadata": {},
   "source": [
    "#### Import pandas library as pd"
   ]
  },
  {
   "cell_type": "code",
   "execution_count": 1,
   "metadata": {
    "collapsed": false
   },
   "outputs": [],
   "source": [
    "import warnings\n",
    "warnings.filterwarnings('ignore')\n",
    "import pandas as pd\n",
    "import numpy as np\n",
    "from matplotlib import pyplot as plt\n",
    "from pylab import rcParams\n",
    "rcParams['font.family'] = 'serif'\n",
    "rcParams['font.size'] = 16\n",
    "rcParams['figure.figsize'] = 5, 10\n",
    "%matplotlib inline"
   ]
  },
  {
   "cell_type": "markdown",
   "metadata": {},
   "source": [
    "## Hampshire police data example"
   ]
  },
  {
   "cell_type": "markdown",
   "metadata": {},
   "source": [
    "#### Reading in multiple .csv files using iPython magic commands\n",
    "#### Using pandas to merge the data into one data frame"
   ]
  },
  {
   "cell_type": "code",
   "execution_count": 2,
   "metadata": {
    "collapsed": false
   },
   "outputs": [
    {
     "data": {
      "text/html": [
       "<div>\n",
       "<table border=\"1\" class=\"dataframe\">\n",
       "  <thead>\n",
       "    <tr style=\"text-align: right;\">\n",
       "      <th></th>\n",
       "      <th>Crime ID</th>\n",
       "      <th>Month</th>\n",
       "      <th>Reported by</th>\n",
       "      <th>Falls within</th>\n",
       "      <th>Longitude</th>\n",
       "      <th>Latitude</th>\n",
       "      <th>Location</th>\n",
       "      <th>LSOA code</th>\n",
       "      <th>LSOA name</th>\n",
       "      <th>Crime type</th>\n",
       "      <th>Last outcome category</th>\n",
       "      <th>Context</th>\n",
       "    </tr>\n",
       "  </thead>\n",
       "  <tbody>\n",
       "    <tr>\n",
       "      <th>0</th>\n",
       "      <td>NaN</td>\n",
       "      <td>2014-02</td>\n",
       "      <td>Hampshire Constabulary</td>\n",
       "      <td>Hampshire Constabulary</td>\n",
       "      <td>-1.147727</td>\n",
       "      <td>51.353443</td>\n",
       "      <td>On or near The Beeches</td>\n",
       "      <td>E01022553</td>\n",
       "      <td>Basingstoke and Deane 001A</td>\n",
       "      <td>Anti-social behaviour</td>\n",
       "      <td>NaN</td>\n",
       "      <td>NaN</td>\n",
       "    </tr>\n",
       "    <tr>\n",
       "      <th>1</th>\n",
       "      <td>NaN</td>\n",
       "      <td>2014-02</td>\n",
       "      <td>Hampshire Constabulary</td>\n",
       "      <td>Hampshire Constabulary</td>\n",
       "      <td>-1.147727</td>\n",
       "      <td>51.353443</td>\n",
       "      <td>On or near The Beeches</td>\n",
       "      <td>E01022553</td>\n",
       "      <td>Basingstoke and Deane 001A</td>\n",
       "      <td>Anti-social behaviour</td>\n",
       "      <td>NaN</td>\n",
       "      <td>NaN</td>\n",
       "    </tr>\n",
       "    <tr>\n",
       "      <th>2</th>\n",
       "      <td>11d1dc5bcf3f349c84f3ef9982a71f8a019516814bc63d...</td>\n",
       "      <td>2014-02</td>\n",
       "      <td>Hampshire Constabulary</td>\n",
       "      <td>Hampshire Constabulary</td>\n",
       "      <td>-1.146835</td>\n",
       "      <td>51.349633</td>\n",
       "      <td>On or near Sarisbury Close</td>\n",
       "      <td>E01022553</td>\n",
       "      <td>Basingstoke and Deane 001A</td>\n",
       "      <td>Burglary</td>\n",
       "      <td>Investigation complete; no suspect identified</td>\n",
       "      <td>NaN</td>\n",
       "    </tr>\n",
       "    <tr>\n",
       "      <th>3</th>\n",
       "      <td>b05186dfd8a67f327d3019ccc130aeffb7fc35489aea99...</td>\n",
       "      <td>2014-02</td>\n",
       "      <td>Hampshire Constabulary</td>\n",
       "      <td>Hampshire Constabulary</td>\n",
       "      <td>-1.144108</td>\n",
       "      <td>51.354973</td>\n",
       "      <td>On or near Honeybottom Road</td>\n",
       "      <td>E01022553</td>\n",
       "      <td>Basingstoke and Deane 001A</td>\n",
       "      <td>Criminal damage and arson</td>\n",
       "      <td>Investigation complete; no suspect identified</td>\n",
       "      <td>NaN</td>\n",
       "    </tr>\n",
       "    <tr>\n",
       "      <th>4</th>\n",
       "      <td>a50b6917a9b9b0ba26a236ebe5f4a85681f1283e9dd9c9...</td>\n",
       "      <td>2014-02</td>\n",
       "      <td>Hampshire Constabulary</td>\n",
       "      <td>Hampshire Constabulary</td>\n",
       "      <td>-1.147727</td>\n",
       "      <td>51.353443</td>\n",
       "      <td>On or near The Beeches</td>\n",
       "      <td>E01022553</td>\n",
       "      <td>Basingstoke and Deane 001A</td>\n",
       "      <td>Criminal damage and arson</td>\n",
       "      <td>Investigation complete; no suspect identified</td>\n",
       "      <td>NaN</td>\n",
       "    </tr>\n",
       "  </tbody>\n",
       "</table>\n",
       "</div>"
      ],
      "text/plain": [
       "                                            Crime ID    Month  \\\n",
       "0                                                NaN  2014-02   \n",
       "1                                                NaN  2014-02   \n",
       "2  11d1dc5bcf3f349c84f3ef9982a71f8a019516814bc63d...  2014-02   \n",
       "3  b05186dfd8a67f327d3019ccc130aeffb7fc35489aea99...  2014-02   \n",
       "4  a50b6917a9b9b0ba26a236ebe5f4a85681f1283e9dd9c9...  2014-02   \n",
       "\n",
       "              Reported by            Falls within  Longitude   Latitude  \\\n",
       "0  Hampshire Constabulary  Hampshire Constabulary  -1.147727  51.353443   \n",
       "1  Hampshire Constabulary  Hampshire Constabulary  -1.147727  51.353443   \n",
       "2  Hampshire Constabulary  Hampshire Constabulary  -1.146835  51.349633   \n",
       "3  Hampshire Constabulary  Hampshire Constabulary  -1.144108  51.354973   \n",
       "4  Hampshire Constabulary  Hampshire Constabulary  -1.147727  51.353443   \n",
       "\n",
       "                      Location  LSOA code                   LSOA name  \\\n",
       "0       On or near The Beeches  E01022553  Basingstoke and Deane 001A   \n",
       "1       On or near The Beeches  E01022553  Basingstoke and Deane 001A   \n",
       "2   On or near Sarisbury Close  E01022553  Basingstoke and Deane 001A   \n",
       "3  On or near Honeybottom Road  E01022553  Basingstoke and Deane 001A   \n",
       "4       On or near The Beeches  E01022553  Basingstoke and Deane 001A   \n",
       "\n",
       "                  Crime type                          Last outcome category  \\\n",
       "0      Anti-social behaviour                                            NaN   \n",
       "1      Anti-social behaviour                                            NaN   \n",
       "2                   Burglary  Investigation complete; no suspect identified   \n",
       "3  Criminal damage and arson  Investigation complete; no suspect identified   \n",
       "4  Criminal damage and arson  Investigation complete; no suspect identified   \n",
       "\n",
       "   Context  \n",
       "0      NaN  \n",
       "1      NaN  \n",
       "2      NaN  \n",
       "3      NaN  \n",
       "4      NaN  "
      ]
     },
     "execution_count": 2,
     "metadata": {},
     "output_type": "execute_result"
    }
   ],
   "source": [
    "files = !ls ./police/*/*.csv # IPython magic to find csv files in different folders\n",
    "police_data = pd.concat([pd.read_csv(f) for f in files])\n",
    "police_data.head()"
   ]
  },
  {
   "cell_type": "markdown",
   "metadata": {},
   "source": [
    "#### Discarding the columns we are not interested in using the drop command"
   ]
  },
  {
   "cell_type": "code",
   "execution_count": 3,
   "metadata": {
    "collapsed": true
   },
   "outputs": [],
   "source": [
    "discarded_columns = ['Longitude', 'Latitude', 'Crime ID', 'Reported by', 'Falls within', 'LSOA code', 'LSOA name', 'Last outcome category', 'Context']"
   ]
  },
  {
   "cell_type": "code",
   "execution_count": 4,
   "metadata": {
    "collapsed": false
   },
   "outputs": [
    {
     "data": {
      "text/html": [
       "<div>\n",
       "<table border=\"1\" class=\"dataframe\">\n",
       "  <thead>\n",
       "    <tr style=\"text-align: right;\">\n",
       "      <th></th>\n",
       "      <th>Month</th>\n",
       "      <th>Location</th>\n",
       "      <th>Crime type</th>\n",
       "    </tr>\n",
       "  </thead>\n",
       "  <tbody>\n",
       "    <tr>\n",
       "      <th>0</th>\n",
       "      <td>2014-02</td>\n",
       "      <td>On or near The Beeches</td>\n",
       "      <td>Anti-social behaviour</td>\n",
       "    </tr>\n",
       "    <tr>\n",
       "      <th>1</th>\n",
       "      <td>2014-02</td>\n",
       "      <td>On or near The Beeches</td>\n",
       "      <td>Anti-social behaviour</td>\n",
       "    </tr>\n",
       "    <tr>\n",
       "      <th>2</th>\n",
       "      <td>2014-02</td>\n",
       "      <td>On or near Sarisbury Close</td>\n",
       "      <td>Burglary</td>\n",
       "    </tr>\n",
       "    <tr>\n",
       "      <th>3</th>\n",
       "      <td>2014-02</td>\n",
       "      <td>On or near Honeybottom Road</td>\n",
       "      <td>Criminal damage and arson</td>\n",
       "    </tr>\n",
       "    <tr>\n",
       "      <th>4</th>\n",
       "      <td>2014-02</td>\n",
       "      <td>On or near The Beeches</td>\n",
       "      <td>Criminal damage and arson</td>\n",
       "    </tr>\n",
       "  </tbody>\n",
       "</table>\n",
       "</div>"
      ],
      "text/plain": [
       "     Month                     Location                 Crime type\n",
       "0  2014-02       On or near The Beeches      Anti-social behaviour\n",
       "1  2014-02       On or near The Beeches      Anti-social behaviour\n",
       "2  2014-02   On or near Sarisbury Close                   Burglary\n",
       "3  2014-02  On or near Honeybottom Road  Criminal damage and arson\n",
       "4  2014-02       On or near The Beeches  Criminal damage and arson"
      ]
     },
     "execution_count": 4,
     "metadata": {},
     "output_type": "execute_result"
    }
   ],
   "source": [
    "police_data = police_data.drop(discarded_columns, axis=1)\n",
    "police_data.head()"
   ]
  },
  {
   "cell_type": "markdown",
   "metadata": {},
   "source": [
    "#### Convert the month column into pandas date type"
   ]
  },
  {
   "cell_type": "code",
   "execution_count": 5,
   "metadata": {
    "collapsed": true
   },
   "outputs": [],
   "source": [
    "police_data['Month'] = pd.to_datetime(police_data['Month'])"
   ]
  },
  {
   "cell_type": "markdown",
   "metadata": {},
   "source": [
    "#### Obtain the possible crime types"
   ]
  },
  {
   "cell_type": "code",
   "execution_count": 6,
   "metadata": {
    "collapsed": false
   },
   "outputs": [
    {
     "data": {
      "text/plain": [
       "array(['Anti-social behaviour', 'Burglary', 'Criminal damage and arson',\n",
       "       'Other theft', 'Violence and sexual offences', 'Public order',\n",
       "       'Shoplifting', 'Drugs', 'Possession of weapons', 'Vehicle crime',\n",
       "       'Other crime', 'Theft from the person', 'Robbery', 'Bicycle theft'], dtype=object)"
      ]
     },
     "execution_count": 6,
     "metadata": {},
     "output_type": "execute_result"
    }
   ],
   "source": [
    "crime_types = pd.unique(police_data['Crime type'])\n",
    "crime_types"
   ]
  },
  {
   "cell_type": "markdown",
   "metadata": {},
   "source": [
    "## Burgess road crime statistics"
   ]
  },
  {
   "cell_type": "markdown",
   "metadata": {},
   "source": [
    "#### Sorting the data by location, and searching for the road we are interested in. The head command prints the first 5 entries."
   ]
  },
  {
   "cell_type": "code",
   "execution_count": 7,
   "metadata": {
    "collapsed": false,
    "scrolled": true
   },
   "outputs": [
    {
     "name": "stdout",
     "output_type": "stream",
     "text": [
      "(192, 3)\n"
     ]
    },
    {
     "data": {
      "text/html": [
       "<div>\n",
       "<table border=\"1\" class=\"dataframe\">\n",
       "  <thead>\n",
       "    <tr style=\"text-align: right;\">\n",
       "      <th></th>\n",
       "      <th>Month</th>\n",
       "      <th>Location</th>\n",
       "      <th>Crime type</th>\n",
       "    </tr>\n",
       "  </thead>\n",
       "  <tbody>\n",
       "    <tr>\n",
       "      <th>7181</th>\n",
       "      <td>2014-02-01</td>\n",
       "      <td>On or near Burgess Road</td>\n",
       "      <td>Burglary</td>\n",
       "    </tr>\n",
       "    <tr>\n",
       "      <th>7185</th>\n",
       "      <td>2014-02-01</td>\n",
       "      <td>On or near Burgess Road</td>\n",
       "      <td>Public order</td>\n",
       "    </tr>\n",
       "    <tr>\n",
       "      <th>336</th>\n",
       "      <td>2014-03-01</td>\n",
       "      <td>On or near Burgess Road</td>\n",
       "      <td>Criminal damage and arson</td>\n",
       "    </tr>\n",
       "    <tr>\n",
       "      <th>341</th>\n",
       "      <td>2014-03-01</td>\n",
       "      <td>On or near Burgess Road</td>\n",
       "      <td>Violence and sexual offences</td>\n",
       "    </tr>\n",
       "    <tr>\n",
       "      <th>8594</th>\n",
       "      <td>2014-03-01</td>\n",
       "      <td>On or near Burgess Road</td>\n",
       "      <td>Anti-social behaviour</td>\n",
       "    </tr>\n",
       "  </tbody>\n",
       "</table>\n",
       "</div>"
      ],
      "text/plain": [
       "          Month                 Location                    Crime type\n",
       "7181 2014-02-01  On or near Burgess Road                      Burglary\n",
       "7185 2014-02-01  On or near Burgess Road                  Public order\n",
       "336  2014-03-01  On or near Burgess Road     Criminal damage and arson\n",
       "341  2014-03-01  On or near Burgess Road  Violence and sexual offences\n",
       "8594 2014-03-01  On or near Burgess Road         Anti-social behaviour"
      ]
     },
     "execution_count": 7,
     "metadata": {},
     "output_type": "execute_result"
    }
   ],
   "source": [
    "university_crime = police_data[police_data['Location'].str.contains(\"Burgess Road\")]\n",
    "print(np.shape(university_crime))\n",
    "university_crime.head()"
   ]
  },
  {
   "cell_type": "markdown",
   "metadata": {},
   "source": [
    "#### Alternatively, use array slicing to obtain the sub-section required"
   ]
  },
  {
   "cell_type": "code",
   "execution_count": 8,
   "metadata": {
    "collapsed": false
   },
   "outputs": [
    {
     "data": {
      "text/html": [
       "<div>\n",
       "<table border=\"1\" class=\"dataframe\">\n",
       "  <thead>\n",
       "    <tr style=\"text-align: right;\">\n",
       "      <th></th>\n",
       "      <th>Month</th>\n",
       "      <th>Location</th>\n",
       "      <th>Crime type</th>\n",
       "    </tr>\n",
       "  </thead>\n",
       "  <tbody>\n",
       "    <tr>\n",
       "      <th>7181</th>\n",
       "      <td>2014-02-01</td>\n",
       "      <td>On or near Burgess Road</td>\n",
       "      <td>Burglary</td>\n",
       "    </tr>\n",
       "    <tr>\n",
       "      <th>7185</th>\n",
       "      <td>2014-02-01</td>\n",
       "      <td>On or near Burgess Road</td>\n",
       "      <td>Public order</td>\n",
       "    </tr>\n",
       "    <tr>\n",
       "      <th>336</th>\n",
       "      <td>2014-03-01</td>\n",
       "      <td>On or near Burgess Road</td>\n",
       "      <td>Criminal damage and arson</td>\n",
       "    </tr>\n",
       "    <tr>\n",
       "      <th>341</th>\n",
       "      <td>2014-03-01</td>\n",
       "      <td>On or near Burgess Road</td>\n",
       "      <td>Violence and sexual offences</td>\n",
       "    </tr>\n",
       "    <tr>\n",
       "      <th>8594</th>\n",
       "      <td>2014-03-01</td>\n",
       "      <td>On or near Burgess Road</td>\n",
       "      <td>Anti-social behaviour</td>\n",
       "    </tr>\n",
       "  </tbody>\n",
       "</table>\n",
       "</div>"
      ],
      "text/plain": [
       "          Month                 Location                    Crime type\n",
       "7181 2014-02-01  On or near Burgess Road                      Burglary\n",
       "7185 2014-02-01  On or near Burgess Road                  Public order\n",
       "336  2014-03-01  On or near Burgess Road     Criminal damage and arson\n",
       "341  2014-03-01  On or near Burgess Road  Violence and sexual offences\n",
       "8594 2014-03-01  On or near Burgess Road         Anti-social behaviour"
      ]
     },
     "execution_count": 8,
     "metadata": {},
     "output_type": "execute_result"
    }
   ],
   "source": [
    "university_crime[:5]"
   ]
  },
  {
   "cell_type": "markdown",
   "metadata": {},
   "source": [
    "#### Filtering the data for the type of criminal behaviour, we choose bicycle theft."
   ]
  },
  {
   "cell_type": "code",
   "execution_count": 9,
   "metadata": {
    "collapsed": false,
    "scrolled": true
   },
   "outputs": [
    {
     "name": "stdout",
     "output_type": "stream",
     "text": [
      "(6, 3)\n"
     ]
    },
    {
     "data": {
      "text/html": [
       "<div>\n",
       "<table border=\"1\" class=\"dataframe\">\n",
       "  <thead>\n",
       "    <tr style=\"text-align: right;\">\n",
       "      <th></th>\n",
       "      <th>Month</th>\n",
       "      <th>Location</th>\n",
       "      <th>Crime type</th>\n",
       "    </tr>\n",
       "  </thead>\n",
       "  <tbody>\n",
       "    <tr>\n",
       "      <th>440</th>\n",
       "      <td>2014-07-01</td>\n",
       "      <td>On or near Burgess Road</td>\n",
       "      <td>Bicycle theft</td>\n",
       "    </tr>\n",
       "    <tr>\n",
       "      <th>9080</th>\n",
       "      <td>2014-12-01</td>\n",
       "      <td>On or near Burgess Road</td>\n",
       "      <td>Bicycle theft</td>\n",
       "    </tr>\n",
       "    <tr>\n",
       "      <th>10901</th>\n",
       "      <td>2015-03-01</td>\n",
       "      <td>On or near Burgess Road</td>\n",
       "      <td>Bicycle theft</td>\n",
       "    </tr>\n",
       "    <tr>\n",
       "      <th>10902</th>\n",
       "      <td>2015-03-01</td>\n",
       "      <td>On or near Burgess Road</td>\n",
       "      <td>Bicycle theft</td>\n",
       "    </tr>\n",
       "    <tr>\n",
       "      <th>10773</th>\n",
       "      <td>2015-04-01</td>\n",
       "      <td>On or near Burgess Road</td>\n",
       "      <td>Bicycle theft</td>\n",
       "    </tr>\n",
       "    <tr>\n",
       "      <th>11745</th>\n",
       "      <td>2015-06-01</td>\n",
       "      <td>On or near Burgess Road</td>\n",
       "      <td>Bicycle theft</td>\n",
       "    </tr>\n",
       "  </tbody>\n",
       "</table>\n",
       "</div>"
      ],
      "text/plain": [
       "           Month                 Location     Crime type\n",
       "440   2014-07-01  On or near Burgess Road  Bicycle theft\n",
       "9080  2014-12-01  On or near Burgess Road  Bicycle theft\n",
       "10901 2015-03-01  On or near Burgess Road  Bicycle theft\n",
       "10902 2015-03-01  On or near Burgess Road  Bicycle theft\n",
       "10773 2015-04-01  On or near Burgess Road  Bicycle theft\n",
       "11745 2015-06-01  On or near Burgess Road  Bicycle theft"
      ]
     },
     "execution_count": 9,
     "metadata": {},
     "output_type": "execute_result"
    }
   ],
   "source": [
    "university_crime_type = university_crime[university_crime['Crime type'].str.contains(\"Bicycle\")]\n",
    "print(np.shape(university_crime_type))\n",
    "university_crime_type"
   ]
  },
  {
   "cell_type": "markdown",
   "metadata": {},
   "source": [
    "#### List the possible criminal offenses by using the 'unique' command"
   ]
  },
  {
   "cell_type": "code",
   "execution_count": 10,
   "metadata": {
    "collapsed": false,
    "scrolled": true
   },
   "outputs": [
    {
     "data": {
      "text/plain": [
       "array(['Anti-social behaviour', 'Burglary', 'Criminal damage and arson',\n",
       "       'Other theft', 'Violence and sexual offences', 'Public order',\n",
       "       'Shoplifting', 'Drugs', 'Possession of weapons', 'Vehicle crime',\n",
       "       'Other crime', 'Theft from the person', 'Robbery', 'Bicycle theft'], dtype=object)"
      ]
     },
     "execution_count": 10,
     "metadata": {},
     "output_type": "execute_result"
    }
   ],
   "source": [
    "crime_list = pd.unique(police_data['Crime type'])\n",
    "crime_list"
   ]
  },
  {
   "cell_type": "markdown",
   "metadata": {},
   "source": [
    "#### Count the number of each crime type on Burgess road"
   ]
  },
  {
   "cell_type": "code",
   "execution_count": 11,
   "metadata": {
    "collapsed": false
   },
   "outputs": [
    {
     "data": {
      "text/plain": [
       "Anti-social behaviour           84\n",
       "Public order                    20\n",
       "Violence and sexual offences    18\n",
       "Criminal damage and arson       17\n",
       "Burglary                        16\n",
       "Other theft                     13\n",
       "Drugs                            8\n",
       "Bicycle theft                    6\n",
       "Vehicle crime                    5\n",
       "Other crime                      2\n",
       "Shoplifting                      2\n",
       "Possession of weapons            1\n",
       "Name: Crime type, dtype: int64"
      ]
     },
     "execution_count": 11,
     "metadata": {},
     "output_type": "execute_result"
    }
   ],
   "source": [
    "university_crime_count = university_crime['Crime type'].value_counts()\n",
    "university_crime_count"
   ]
  },
  {
   "cell_type": "markdown",
   "metadata": {},
   "source": [
    "#### Plot the crime counts as a bar chart"
   ]
  },
  {
   "cell_type": "code",
   "execution_count": 12,
   "metadata": {
    "collapsed": false
   },
   "outputs": [
    {
     "data": {
      "text/plain": [
       "<matplotlib.text.Text at 0x113d94320>"
      ]
     },
     "execution_count": 12,
     "metadata": {},
     "output_type": "execute_result"
    },
    {
     "data": {
      "image/png": "[encoded data removed]",
      "text/plain": [
       "<matplotlib.figure.Figure at 0x10fd63dd8>"
      ]
     },
     "metadata": {},
     "output_type": "display_data"
    }
   ],
   "source": [
    "ax = university_crime_count.plot(kind='bar',figsize=(12, 5),title='Burgess Road crime distribution 2014-16', fontsize=12)\n",
    "ax.set_ylabel('Count', fontsize=12)"
   ]
  },
  {
   "cell_type": "markdown",
   "metadata": {},
   "source": [
    "#### Count the number of crimes in Burgess road per month over the past 2 years"
   ]
  },
  {
   "cell_type": "code",
   "execution_count": 13,
   "metadata": {
    "collapsed": false
   },
   "outputs": [
    {
     "data": {
      "text/plain": [
       "2015-03-01    25\n",
       "2015-06-01    18\n",
       "2014-07-01    14\n",
       "2014-11-01    13\n",
       "2015-04-01    12\n",
       "2014-08-01    10\n",
       "2015-07-01     9\n",
       "2015-05-01     9\n",
       "2014-09-01     8\n",
       "2014-06-01     8\n",
       "2016-01-01     6\n",
       "2015-12-01     6\n",
       "2015-11-01     6\n",
       "2014-12-01     5\n",
       "2015-01-01     5\n",
       "2014-04-01     5\n",
       "2015-10-01     5\n",
       "2015-08-01     5\n",
       "2014-10-01     4\n",
       "2015-09-01     4\n",
       "2016-02-01     4\n",
       "2014-03-01     3\n",
       "2015-02-01     3\n",
       "2014-05-01     3\n",
       "2014-02-01     2\n",
       "Name: Month, dtype: int64"
      ]
     },
     "execution_count": 13,
     "metadata": {},
     "output_type": "execute_result"
    }
   ],
   "source": [
    "university_crime_monthly = university_crime['Month'].value_counts()\n",
    "university_crime_monthly"
   ]
  },
  {
   "cell_type": "markdown",
   "metadata": {},
   "source": [
    "#### Plot the monthly crime count for Burgess road"
   ]
  },
  {
   "cell_type": "code",
   "execution_count": 14,
   "metadata": {
    "collapsed": false,
    "scrolled": true
   },
   "outputs": [
    {
     "data": {
      "text/plain": [
       "<matplotlib.text.Text at 0x113e007f0>"
      ]
     },
     "execution_count": 14,
     "metadata": {},
     "output_type": "execute_result"
    },
    {
     "data": {
      "image/png": "[encoded data removed]",
      "text/plain": [
       "<matplotlib.figure.Figure at 0x11271deb8>"
      ]
     },
     "metadata": {},
     "output_type": "display_data"
    }
   ],
   "source": [
    "ax2 = university_crime_monthly.plot(kind='line',marker='o',figsize=(12, 5),title='Burgess road: Monthly variation of reported crimes', fontsize=12)\n",
    "ax2.set_ylabel('Reported crimes', fontsize=12)"
   ]
  },
  {
   "cell_type": "markdown",
   "metadata": {},
   "source": [
    "## Hampshire crime statistics"
   ]
  },
  {
   "cell_type": "markdown",
   "metadata": {},
   "source": [
    "#### Comparing the crimes for December 2014 and 2015"
   ]
  },
  {
   "cell_type": "code",
   "execution_count": 15,
   "metadata": {
    "collapsed": false,
    "scrolled": true
   },
   "outputs": [
    {
     "data": {
      "text/html": [
       "<div>\n",
       "<table border=\"1\" class=\"dataframe\">\n",
       "  <thead>\n",
       "    <tr style=\"text-align: right;\">\n",
       "      <th></th>\n",
       "      <th>Month</th>\n",
       "      <th>Location</th>\n",
       "      <th>Crime type</th>\n",
       "    </tr>\n",
       "  </thead>\n",
       "  <tbody>\n",
       "    <tr>\n",
       "      <th>0</th>\n",
       "      <td>2015-12-01</td>\n",
       "      <td>On or near Glendale Road</td>\n",
       "      <td>Anti-social behaviour</td>\n",
       "    </tr>\n",
       "    <tr>\n",
       "      <th>1</th>\n",
       "      <td>2015-12-01</td>\n",
       "      <td>On or near Stanfield</td>\n",
       "      <td>Anti-social behaviour</td>\n",
       "    </tr>\n",
       "    <tr>\n",
       "      <th>2</th>\n",
       "      <td>2015-12-01</td>\n",
       "      <td>On or near Stanfield</td>\n",
       "      <td>Violence and sexual offences</td>\n",
       "    </tr>\n",
       "    <tr>\n",
       "      <th>3</th>\n",
       "      <td>2015-12-01</td>\n",
       "      <td>On or near Searing Way</td>\n",
       "      <td>Anti-social behaviour</td>\n",
       "    </tr>\n",
       "    <tr>\n",
       "      <th>4</th>\n",
       "      <td>2015-12-01</td>\n",
       "      <td>On or near Inhurst Way</td>\n",
       "      <td>Other theft</td>\n",
       "    </tr>\n",
       "  </tbody>\n",
       "</table>\n",
       "</div>"
      ],
      "text/plain": [
       "       Month                  Location                    Crime type\n",
       "0 2015-12-01  On or near Glendale Road         Anti-social behaviour\n",
       "1 2015-12-01      On or near Stanfield         Anti-social behaviour\n",
       "2 2015-12-01      On or near Stanfield  Violence and sexual offences\n",
       "3 2015-12-01    On or near Searing Way         Anti-social behaviour\n",
       "4 2015-12-01    On or near Inhurst Way                   Other theft"
      ]
     },
     "execution_count": 15,
     "metadata": {},
     "output_type": "execute_result"
    }
   ],
   "source": [
    "xmas2014= police_data[police_data.Month == '2014-12-01']\n",
    "xmas2015= police_data[police_data.Month == '2015-12-01']\n",
    "xmas2015.head()"
   ]
  },
  {
   "cell_type": "markdown",
   "metadata": {},
   "source": [
    "#### Text summary of the top crime statistics for the two months"
   ]
  },
  {
   "cell_type": "code",
   "execution_count": 16,
   "metadata": {
    "collapsed": false
   },
   "outputs": [
    {
     "data": {
      "text/plain": [
       "Anti-social behaviour           4705\n",
       "Violence and sexual offences    1653\n",
       "Criminal damage and arson       1332\n",
       "Burglary                         971\n",
       "Other theft                      971\n",
       "Name: Crime type, dtype: int64"
      ]
     },
     "execution_count": 16,
     "metadata": {},
     "output_type": "execute_result"
    }
   ],
   "source": [
    "xmas2014['Crime type'].value_counts().head()"
   ]
  },
  {
   "cell_type": "code",
   "execution_count": 17,
   "metadata": {
    "collapsed": false
   },
   "outputs": [
    {
     "data": {
      "text/plain": [
       "Anti-social behaviour           4561\n",
       "Violence and sexual offences    2267\n",
       "Criminal damage and arson       1462\n",
       "Burglary                         927\n",
       "Shoplifting                      913\n",
       "Name: Crime type, dtype: int64"
      ]
     },
     "execution_count": 17,
     "metadata": {},
     "output_type": "execute_result"
    }
   ],
   "source": [
    "xmas2015['Crime type'].value_counts().head()"
   ]
  },
  {
   "cell_type": "markdown",
   "metadata": {},
   "source": [
    "#### Comparing the crime rate sorted by offense type on the same bar chart"
   ]
  },
  {
   "cell_type": "code",
   "execution_count": 18,
   "metadata": {
    "collapsed": false
   },
   "outputs": [
    {
     "data": {
      "text/plain": [
       "<matplotlib.axes._subplots.AxesSubplot at 0x117172e80>"
      ]
     },
     "execution_count": 18,
     "metadata": {},
     "output_type": "execute_result"
    },
    {
     "data": {
      "image/png": "[encoded data removed]",
      "text/plain": [
       "<matplotlib.figure.Figure at 0x113e00668>"
      ]
     },
     "metadata": {},
     "output_type": "display_data"
    }
   ],
   "source": [
    "xmas2014_count = xmas2014['Crime type'].value_counts()\n",
    "xmas2014_count.name = 'Xmas 2014'\n",
    "xmas2015_count = xmas2015['Crime type'].value_counts()\n",
    "xmas2015_count.name = 'Xmas 2015'\n",
    "new_xmas = pd.concat([xmas2014_count, xmas2015_count], axis=1)\n",
    "new_xmas.plot(kind='bar', figsize=(12, 5),title='Hampshire December crime rates 2014 & 2015', fontsize=12)"
   ]
  },
  {
   "cell_type": "markdown",
   "metadata": {},
   "source": [
    "#### Grouping by Month and crime type to see the most common locations for each crime per month"
   ]
  },
  {
   "cell_type": "markdown",
   "metadata": {},
   "source": [
    "#### Generic locations reported by the police dominate the data set over individual roads"
   ]
  },
  {
   "cell_type": "code",
   "execution_count": 19,
   "metadata": {
    "collapsed": false
   },
   "outputs": [
    {
     "data": {
      "text/html": [
       "<div>\n",
       "<table border=\"1\" class=\"dataframe\">\n",
       "  <thead>\n",
       "    <tr style=\"text-align: right;\">\n",
       "      <th></th>\n",
       "      <th></th>\n",
       "      <th></th>\n",
       "      <th>Location</th>\n",
       "    </tr>\n",
       "    <tr>\n",
       "      <th>Month</th>\n",
       "      <th>Crime type</th>\n",
       "      <th></th>\n",
       "      <th></th>\n",
       "    </tr>\n",
       "  </thead>\n",
       "  <tbody>\n",
       "    <tr>\n",
       "      <th rowspan=\"30\" valign=\"top\">2014-02-01</th>\n",
       "      <th rowspan=\"4\" valign=\"top\">Anti-social behaviour</th>\n",
       "      <th>count</th>\n",
       "      <td>3893</td>\n",
       "    </tr>\n",
       "    <tr>\n",
       "      <th>unique</th>\n",
       "      <td>2097</td>\n",
       "    </tr>\n",
       "    <tr>\n",
       "      <th>top</th>\n",
       "      <td>On or near Supermarket</td>\n",
       "    </tr>\n",
       "    <tr>\n",
       "      <th>freq</th>\n",
       "      <td>187</td>\n",
       "    </tr>\n",
       "    <tr>\n",
       "      <th rowspan=\"4\" valign=\"top\">Bicycle theft</th>\n",
       "      <th>count</th>\n",
       "      <td>222</td>\n",
       "    </tr>\n",
       "    <tr>\n",
       "      <th>unique</th>\n",
       "      <td>161</td>\n",
       "    </tr>\n",
       "    <tr>\n",
       "      <th>top</th>\n",
       "      <td>On or near Shopping Area</td>\n",
       "    </tr>\n",
       "    <tr>\n",
       "      <th>freq</th>\n",
       "      <td>11</td>\n",
       "    </tr>\n",
       "    <tr>\n",
       "      <th rowspan=\"4\" valign=\"top\">Burglary</th>\n",
       "      <th>count</th>\n",
       "      <td>758</td>\n",
       "    </tr>\n",
       "    <tr>\n",
       "      <th>unique</th>\n",
       "      <td>581</td>\n",
       "    </tr>\n",
       "    <tr>\n",
       "      <th>top</th>\n",
       "      <td>On or near Parking Area</td>\n",
       "    </tr>\n",
       "    <tr>\n",
       "      <th>freq</th>\n",
       "      <td>27</td>\n",
       "    </tr>\n",
       "    <tr>\n",
       "      <th rowspan=\"4\" valign=\"top\">Criminal damage and arson</th>\n",
       "      <th>count</th>\n",
       "      <td>1197</td>\n",
       "    </tr>\n",
       "    <tr>\n",
       "      <th>unique</th>\n",
       "      <td>847</td>\n",
       "    </tr>\n",
       "    <tr>\n",
       "      <th>top</th>\n",
       "      <td>On or near Parking Area</td>\n",
       "    </tr>\n",
       "    <tr>\n",
       "      <th>freq</th>\n",
       "      <td>48</td>\n",
       "    </tr>\n",
       "    <tr>\n",
       "      <th rowspan=\"4\" valign=\"top\">Drugs</th>\n",
       "      <th>count</th>\n",
       "      <td>420</td>\n",
       "    </tr>\n",
       "    <tr>\n",
       "      <th>unique</th>\n",
       "      <td>290</td>\n",
       "    </tr>\n",
       "    <tr>\n",
       "      <th>top</th>\n",
       "      <td>On or near Parking Area</td>\n",
       "    </tr>\n",
       "    <tr>\n",
       "      <th>freq</th>\n",
       "      <td>30</td>\n",
       "    </tr>\n",
       "    <tr>\n",
       "      <th rowspan=\"4\" valign=\"top\">Other crime</th>\n",
       "      <th>count</th>\n",
       "      <td>124</td>\n",
       "    </tr>\n",
       "    <tr>\n",
       "      <th>unique</th>\n",
       "      <td>103</td>\n",
       "    </tr>\n",
       "    <tr>\n",
       "      <th>top</th>\n",
       "      <td>On or near Shopping Area</td>\n",
       "    </tr>\n",
       "    <tr>\n",
       "      <th>freq</th>\n",
       "      <td>5</td>\n",
       "    </tr>\n",
       "    <tr>\n",
       "      <th rowspan=\"4\" valign=\"top\">Other theft</th>\n",
       "      <th>count</th>\n",
       "      <td>645</td>\n",
       "    </tr>\n",
       "    <tr>\n",
       "      <th>unique</th>\n",
       "      <td>439</td>\n",
       "    </tr>\n",
       "    <tr>\n",
       "      <th>top</th>\n",
       "      <td>On or near Supermarket</td>\n",
       "    </tr>\n",
       "    <tr>\n",
       "      <th>freq</th>\n",
       "      <td>40</td>\n",
       "    </tr>\n",
       "    <tr>\n",
       "      <th rowspan=\"2\" valign=\"top\">Possession of weapons</th>\n",
       "      <th>count</th>\n",
       "      <td>46</td>\n",
       "    </tr>\n",
       "    <tr>\n",
       "      <th>unique</th>\n",
       "      <td>44</td>\n",
       "    </tr>\n",
       "    <tr>\n",
       "      <th>...</th>\n",
       "      <th>...</th>\n",
       "      <th>...</th>\n",
       "      <td>...</td>\n",
       "    </tr>\n",
       "    <tr>\n",
       "      <th rowspan=\"30\" valign=\"top\">2016-02-01</th>\n",
       "      <th rowspan=\"2\" valign=\"top\">Other theft</th>\n",
       "      <th>top</th>\n",
       "      <td>On or near Supermarket</td>\n",
       "    </tr>\n",
       "    <tr>\n",
       "      <th>freq</th>\n",
       "      <td>48</td>\n",
       "    </tr>\n",
       "    <tr>\n",
       "      <th rowspan=\"4\" valign=\"top\">Possession of weapons</th>\n",
       "      <th>count</th>\n",
       "      <td>67</td>\n",
       "    </tr>\n",
       "    <tr>\n",
       "      <th>unique</th>\n",
       "      <td>50</td>\n",
       "    </tr>\n",
       "    <tr>\n",
       "      <th>top</th>\n",
       "      <td>On or near Supermarket</td>\n",
       "    </tr>\n",
       "    <tr>\n",
       "      <th>freq</th>\n",
       "      <td>9</td>\n",
       "    </tr>\n",
       "    <tr>\n",
       "      <th rowspan=\"4\" valign=\"top\">Public order</th>\n",
       "      <th>count</th>\n",
       "      <td>778</td>\n",
       "    </tr>\n",
       "    <tr>\n",
       "      <th>unique</th>\n",
       "      <td>501</td>\n",
       "    </tr>\n",
       "    <tr>\n",
       "      <th>top</th>\n",
       "      <td>On or near Supermarket</td>\n",
       "    </tr>\n",
       "    <tr>\n",
       "      <th>freq</th>\n",
       "      <td>61</td>\n",
       "    </tr>\n",
       "    <tr>\n",
       "      <th rowspan=\"4\" valign=\"top\">Robbery</th>\n",
       "      <th>count</th>\n",
       "      <td>52</td>\n",
       "    </tr>\n",
       "    <tr>\n",
       "      <th>unique</th>\n",
       "      <td>36</td>\n",
       "    </tr>\n",
       "    <tr>\n",
       "      <th>top</th>\n",
       "      <td>On or near Parking Area</td>\n",
       "    </tr>\n",
       "    <tr>\n",
       "      <th>freq</th>\n",
       "      <td>6</td>\n",
       "    </tr>\n",
       "    <tr>\n",
       "      <th rowspan=\"4\" valign=\"top\">Shoplifting</th>\n",
       "      <th>count</th>\n",
       "      <td>969</td>\n",
       "    </tr>\n",
       "    <tr>\n",
       "      <th>unique</th>\n",
       "      <td>186</td>\n",
       "    </tr>\n",
       "    <tr>\n",
       "      <th>top</th>\n",
       "      <td>On or near Supermarket</td>\n",
       "    </tr>\n",
       "    <tr>\n",
       "      <th>freq</th>\n",
       "      <td>300</td>\n",
       "    </tr>\n",
       "    <tr>\n",
       "      <th rowspan=\"4\" valign=\"top\">Theft from the person</th>\n",
       "      <th>count</th>\n",
       "      <td>92</td>\n",
       "    </tr>\n",
       "    <tr>\n",
       "      <th>unique</th>\n",
       "      <td>60</td>\n",
       "    </tr>\n",
       "    <tr>\n",
       "      <th>top</th>\n",
       "      <td>On or near Supermarket</td>\n",
       "    </tr>\n",
       "    <tr>\n",
       "      <th>freq</th>\n",
       "      <td>11</td>\n",
       "    </tr>\n",
       "    <tr>\n",
       "      <th rowspan=\"4\" valign=\"top\">Vehicle crime</th>\n",
       "      <th>count</th>\n",
       "      <td>644</td>\n",
       "    </tr>\n",
       "    <tr>\n",
       "      <th>unique</th>\n",
       "      <td>505</td>\n",
       "    </tr>\n",
       "    <tr>\n",
       "      <th>top</th>\n",
       "      <td>On or near Supermarket</td>\n",
       "    </tr>\n",
       "    <tr>\n",
       "      <th>freq</th>\n",
       "      <td>31</td>\n",
       "    </tr>\n",
       "    <tr>\n",
       "      <th rowspan=\"4\" valign=\"top\">Violence and sexual offences</th>\n",
       "      <th>count</th>\n",
       "      <td>2240</td>\n",
       "    </tr>\n",
       "    <tr>\n",
       "      <th>unique</th>\n",
       "      <td>1423</td>\n",
       "    </tr>\n",
       "    <tr>\n",
       "      <th>top</th>\n",
       "      <td>On or near Parking Area</td>\n",
       "    </tr>\n",
       "    <tr>\n",
       "      <th>freq</th>\n",
       "      <td>85</td>\n",
       "    </tr>\n",
       "  </tbody>\n",
       "</table>\n",
       "<p>1400 rows × 1 columns</p>\n",
       "</div>"
      ],
      "text/plain": [
       "                                                                Location\n",
       "Month      Crime type                                                   \n",
       "2014-02-01 Anti-social behaviour        count                       3893\n",
       "                                        unique                      2097\n",
       "                                        top       On or near Supermarket\n",
       "                                        freq                         187\n",
       "           Bicycle theft                count                        222\n",
       "                                        unique                       161\n",
       "                                        top     On or near Shopping Area\n",
       "                                        freq                          11\n",
       "           Burglary                     count                        758\n",
       "                                        unique                       581\n",
       "                                        top      On or near Parking Area\n",
       "                                        freq                          27\n",
       "           Criminal damage and arson    count                       1197\n",
       "                                        unique                       847\n",
       "                                        top      On or near Parking Area\n",
       "                                        freq                          48\n",
       "           Drugs                        count                        420\n",
       "                                        unique                       290\n",
       "                                        top      On or near Parking Area\n",
       "                                        freq                          30\n",
       "           Other crime                  count                        124\n",
       "                                        unique                       103\n",
       "                                        top     On or near Shopping Area\n",
       "                                        freq                           5\n",
       "           Other theft                  count                        645\n",
       "                                        unique                       439\n",
       "                                        top       On or near Supermarket\n",
       "                                        freq                          40\n",
       "           Possession of weapons        count                         46\n",
       "                                        unique                        44\n",
       "...                                                                  ...\n",
       "2016-02-01 Other theft                  top       On or near Supermarket\n",
       "                                        freq                          48\n",
       "           Possession of weapons        count                         67\n",
       "                                        unique                        50\n",
       "                                        top       On or near Supermarket\n",
       "                                        freq                           9\n",
       "           Public order                 count                        778\n",
       "                                        unique                       501\n",
       "                                        top       On or near Supermarket\n",
       "                                        freq                          61\n",
       "           Robbery                      count                         52\n",
       "                                        unique                        36\n",
       "                                        top      On or near Parking Area\n",
       "                                        freq                           6\n",
       "           Shoplifting                  count                        969\n",
       "                                        unique                       186\n",
       "                                        top       On or near Supermarket\n",
       "                                        freq                         300\n",
       "           Theft from the person        count                         92\n",
       "                                        unique                        60\n",
       "                                        top       On or near Supermarket\n",
       "                                        freq                          11\n",
       "           Vehicle crime                count                        644\n",
       "                                        unique                       505\n",
       "                                        top       On or near Supermarket\n",
       "                                        freq                          31\n",
       "           Violence and sexual offences count                       2240\n",
       "                                        unique                      1423\n",
       "                                        top      On or near Parking Area\n",
       "                                        freq                          85\n",
       "\n",
       "[1400 rows x 1 columns]"
      ]
     },
     "execution_count": 19,
     "metadata": {},
     "output_type": "execute_result"
    }
   ],
   "source": [
    "group_by_example = police_data.groupby(['Month', 'Crime type']).describe()\n",
    "group_by_example"
   ]
  },
  {
   "cell_type": "code",
   "execution_count": 20,
   "metadata": {
    "collapsed": false
   },
   "outputs": [
    {
     "data": {
      "text/plain": [
       "<matplotlib.legend.Legend at 0x118a14978>"
      ]
     },
     "execution_count": 20,
     "metadata": {},
     "output_type": "execute_result"
    },
    {
     "data": {
      "image/png": "[encoded data removed]",
      "text/plain": [
       "<matplotlib.figure.Figure at 0x112789668>"
      ]
     },
     "metadata": {},
     "output_type": "display_data"
    }
   ],
   "source": [
    "crimes = ['Burglary', 'Shoplifting', 'Violence and sexual offences','Vehicle crime']\n",
    "for crime in crimes: \n",
    "    crime_sort = police_data[police_data['Crime type'].str.contains(crime)]\n",
    "    monthlycount = crime_sort['Month'].value_counts()\n",
    "    ax3 = monthlycount.plot(kind='line',marker='o', label=crime,figsize=(12, 5),\\\n",
    "                            title='Hampshire 2014-16: reported crime trends', fontsize=12)\n",
    "ax3.set_ylabel(\"Count\", fontsize=12)\n",
    "ax3.legend(loc=\"best\")"
   ]
  },
  {
   "cell_type": "markdown",
   "metadata": {},
   "source": [
    "#### Variation in total number of reported crimes over the two year period"
   ]
  },
  {
   "cell_type": "code",
   "execution_count": 21,
   "metadata": {
    "collapsed": false
   },
   "outputs": [],
   "source": [
    "hampshire_crime_monthly = police_data['Month'].value_counts()"
   ]
  },
  {
   "cell_type": "code",
   "execution_count": 22,
   "metadata": {
    "collapsed": false,
    "scrolled": true
   },
   "outputs": [
    {
     "data": {
      "text/plain": [
       "<matplotlib.text.Text at 0x115a24278>"
      ]
     },
     "execution_count": 22,
     "metadata": {},
     "output_type": "execute_result"
    },
    {
     "data": {
      "image/png": "[encoded data removed]",
      "text/plain": [
       "<matplotlib.figure.Figure at 0x1127859e8>"
      ]
     },
     "metadata": {},
     "output_type": "display_data"
    }
   ],
   "source": [
    "ax2 = hampshire_crime_monthly.plot(kind='line',marker='o',figsize=(12, 5),title='Hampshire Monthly variation of reported crimes', fontsize=12)\n",
    "ax2.set_ylabel('Reported crimes', fontsize=12)"
   ]
  },
  {
   "cell_type": "markdown",
   "metadata": {},
   "source": [
    "## Converting Numpy data to LaTeX"
   ]
  },
  {
   "cell_type": "markdown",
   "metadata": {},
   "source": [
    "#### We create some numerical data in numpy arrays, hstack into one large array"
   ]
  },
  {
   "cell_type": "markdown",
   "metadata": {},
   "source": [
    "#### Manually add some NaN entries to the data set for removal"
   ]
  },
  {
   "cell_type": "code",
   "execution_count": 23,
   "metadata": {
    "collapsed": false
   },
   "outputs": [],
   "source": [
    "x = np.linspace(0,9,10).reshape([10,1])*5\n",
    "y = np.linspace(10,19,10).reshape([10,1])*10\n",
    "z = np.random.rand(10).reshape([10,1])*15\n",
    "output = np.hstack((x,y,z))\n",
    "output[3,1] = np.nan\n",
    "output[7,2] = np.nan"
   ]
  },
  {
   "cell_type": "code",
   "execution_count": 24,
   "metadata": {
    "collapsed": false
   },
   "outputs": [
    {
     "data": {
      "text/html": [
       "<div>\n",
       "<table border=\"1\" class=\"dataframe\">\n",
       "  <thead>\n",
       "    <tr style=\"text-align: right;\">\n",
       "      <th></th>\n",
       "      <th>X</th>\n",
       "      <th>Y</th>\n",
       "      <th>Z</th>\n",
       "    </tr>\n",
       "  </thead>\n",
       "  <tbody>\n",
       "    <tr>\n",
       "      <th>0</th>\n",
       "      <td>0.0</td>\n",
       "      <td>100.0</td>\n",
       "      <td>11.179084</td>\n",
       "    </tr>\n",
       "    <tr>\n",
       "      <th>1</th>\n",
       "      <td>5.0</td>\n",
       "      <td>110.0</td>\n",
       "      <td>9.748751</td>\n",
       "    </tr>\n",
       "    <tr>\n",
       "      <th>2</th>\n",
       "      <td>10.0</td>\n",
       "      <td>120.0</td>\n",
       "      <td>7.505129</td>\n",
       "    </tr>\n",
       "    <tr>\n",
       "      <th>3</th>\n",
       "      <td>15.0</td>\n",
       "      <td>NaN</td>\n",
       "      <td>3.950354</td>\n",
       "    </tr>\n",
       "    <tr>\n",
       "      <th>4</th>\n",
       "      <td>20.0</td>\n",
       "      <td>140.0</td>\n",
       "      <td>13.140722</td>\n",
       "    </tr>\n",
       "    <tr>\n",
       "      <th>5</th>\n",
       "      <td>25.0</td>\n",
       "      <td>150.0</td>\n",
       "      <td>4.249103</td>\n",
       "    </tr>\n",
       "    <tr>\n",
       "      <th>6</th>\n",
       "      <td>30.0</td>\n",
       "      <td>160.0</td>\n",
       "      <td>13.087476</td>\n",
       "    </tr>\n",
       "    <tr>\n",
       "      <th>7</th>\n",
       "      <td>35.0</td>\n",
       "      <td>170.0</td>\n",
       "      <td>NaN</td>\n",
       "    </tr>\n",
       "    <tr>\n",
       "      <th>8</th>\n",
       "      <td>40.0</td>\n",
       "      <td>180.0</td>\n",
       "      <td>8.898929</td>\n",
       "    </tr>\n",
       "    <tr>\n",
       "      <th>9</th>\n",
       "      <td>45.0</td>\n",
       "      <td>190.0</td>\n",
       "      <td>0.856822</td>\n",
       "    </tr>\n",
       "  </tbody>\n",
       "</table>\n",
       "</div>"
      ],
      "text/plain": [
       "      X      Y          Z\n",
       "0   0.0  100.0  11.179084\n",
       "1   5.0  110.0   9.748751\n",
       "2  10.0  120.0   7.505129\n",
       "3  15.0    NaN   3.950354\n",
       "4  20.0  140.0  13.140722\n",
       "5  25.0  150.0   4.249103\n",
       "6  30.0  160.0  13.087476\n",
       "7  35.0  170.0        NaN\n",
       "8  40.0  180.0   8.898929\n",
       "9  45.0  190.0   0.856822"
      ]
     },
     "execution_count": 24,
     "metadata": {},
     "output_type": "execute_result"
    }
   ],
   "source": [
    "column_labels = ['X', 'Y', 'Z']\n",
    "output_dataframe = pd.DataFrame(output, columns = column_labels)\n",
    "output_dataframe"
   ]
  },
  {
   "cell_type": "markdown",
   "metadata": {},
   "source": [
    "#### Use the pandas 'dropna' command to remove all rows containing missing data. Alternatively these can be set to a desired value."
   ]
  },
  {
   "cell_type": "code",
   "execution_count": 25,
   "metadata": {
    "collapsed": false
   },
   "outputs": [
    {
     "data": {
      "text/html": [
       "<div>\n",
       "<table border=\"1\" class=\"dataframe\">\n",
       "  <thead>\n",
       "    <tr style=\"text-align: right;\">\n",
       "      <th></th>\n",
       "      <th>X</th>\n",
       "      <th>Y</th>\n",
       "      <th>Z</th>\n",
       "    </tr>\n",
       "  </thead>\n",
       "  <tbody>\n",
       "    <tr>\n",
       "      <th>0</th>\n",
       "      <td>0.0</td>\n",
       "      <td>100.0</td>\n",
       "      <td>11.179084</td>\n",
       "    </tr>\n",
       "    <tr>\n",
       "      <th>1</th>\n",
       "      <td>5.0</td>\n",
       "      <td>110.0</td>\n",
       "      <td>9.748751</td>\n",
       "    </tr>\n",
       "    <tr>\n",
       "      <th>2</th>\n",
       "      <td>10.0</td>\n",
       "      <td>120.0</td>\n",
       "      <td>7.505129</td>\n",
       "    </tr>\n",
       "    <tr>\n",
       "      <th>4</th>\n",
       "      <td>20.0</td>\n",
       "      <td>140.0</td>\n",
       "      <td>13.140722</td>\n",
       "    </tr>\n",
       "    <tr>\n",
       "      <th>5</th>\n",
       "      <td>25.0</td>\n",
       "      <td>150.0</td>\n",
       "      <td>4.249103</td>\n",
       "    </tr>\n",
       "    <tr>\n",
       "      <th>6</th>\n",
       "      <td>30.0</td>\n",
       "      <td>160.0</td>\n",
       "      <td>13.087476</td>\n",
       "    </tr>\n",
       "    <tr>\n",
       "      <th>8</th>\n",
       "      <td>40.0</td>\n",
       "      <td>180.0</td>\n",
       "      <td>8.898929</td>\n",
       "    </tr>\n",
       "    <tr>\n",
       "      <th>9</th>\n",
       "      <td>45.0</td>\n",
       "      <td>190.0</td>\n",
       "      <td>0.856822</td>\n",
       "    </tr>\n",
       "  </tbody>\n",
       "</table>\n",
       "</div>"
      ],
      "text/plain": [
       "      X      Y          Z\n",
       "0   0.0  100.0  11.179084\n",
       "1   5.0  110.0   9.748751\n",
       "2  10.0  120.0   7.505129\n",
       "4  20.0  140.0  13.140722\n",
       "5  25.0  150.0   4.249103\n",
       "6  30.0  160.0  13.087476\n",
       "8  40.0  180.0   8.898929\n",
       "9  45.0  190.0   0.856822"
      ]
     },
     "execution_count": 25,
     "metadata": {},
     "output_type": "execute_result"
    }
   ],
   "source": [
    "output_dataframe = output_dataframe.dropna()\n",
    "output_dataframe"
   ]
  },
  {
   "cell_type": "markdown",
   "metadata": {},
   "source": [
    "#### Output the table to LaTex with to_latex command, index=None removes the row numbering"
   ]
  },
  {
   "cell_type": "markdown",
   "metadata": {},
   "source": [
    "#### Need to use the /usepackage{booktabs} command in the LaTeX document"
   ]
  },
  {
   "cell_type": "code",
   "execution_count": 26,
   "metadata": {
    "collapsed": false
   },
   "outputs": [
    {
     "name": "stdout",
     "output_type": "stream",
     "text": [
      "\\begin{tabular}{rrr}\n",
      "\\toprule\n",
      "    X &      Y &          Z \\\\\n",
      "\\midrule\n",
      "  0.0 &  100.0 &  11.179084 \\\\\n",
      "  5.0 &  110.0 &   9.748751 \\\\\n",
      " 10.0 &  120.0 &   7.505129 \\\\\n",
      " 20.0 &  140.0 &  13.140722 \\\\\n",
      " 25.0 &  150.0 &   4.249103 \\\\\n",
      " 30.0 &  160.0 &  13.087476 \\\\\n",
      " 40.0 &  180.0 &   8.898929 \\\\\n",
      " 45.0 &  190.0 &   0.856822 \\\\\n",
      "\\bottomrule\n",
      "\\end{tabular}\n",
      "\n"
     ]
    }
   ],
   "source": [
    "print(output_dataframe.to_latex(index=None))"
   ]
  },
  {
   "cell_type": "markdown",
   "metadata": {
    "collapsed": false
   },
   "source": [
    "## Short example of using Pandas with statsmodels package for a simple least squares linear regression"
   ]
  },
  {
   "cell_type": "code",
   "execution_count": 27,
   "metadata": {
    "collapsed": false
   },
   "outputs": [],
   "source": [
    "import statsmodels.api as sm"
   ]
  },
  {
   "cell_type": "markdown",
   "metadata": {},
   "source": [
    "### Create two arrays of data"
   ]
  },
  {
   "cell_type": "code",
   "execution_count": 28,
   "metadata": {
    "collapsed": true
   },
   "outputs": [],
   "source": [
    "Dispensers = np.array([0, 0, 1, 1, 2, 2, 3, 3, 4, 4, 5, 5, 6, 6])\n",
    "Sales = np.array([508.1, 498.4, 568.2, 577.3, 651.7, 657.0, 713.4, 697.5, 755.3, 758.9, 787.6, 792.1, 841.4, 831.8])"
   ]
  },
  {
   "cell_type": "markdown",
   "metadata": {},
   "source": [
    "### Fit the linear model and produce a regression summary"
   ]
  },
  {
   "cell_type": "code",
   "execution_count": 29,
   "metadata": {
    "collapsed": false
   },
   "outputs": [
    {
     "data": {
      "text/html": [
       "<table class=\"simpletable\">\n",
       "<caption>OLS Regression Results</caption>\n",
       "<tr>\n",
       "  <th>Dep. Variable:</th>          <td>Sales</td>      <th>  R-squared:         </th> <td>   0.978</td>\n",
       "</tr>\n",
       "<tr>\n",
       "  <th>Model:</th>                   <td>OLS</td>       <th>  Adj. R-squared:    </th> <td>   0.977</td>\n",
       "</tr>\n",
       "<tr>\n",
       "  <th>Method:</th>             <td>Least Squares</td>  <th>  F-statistic:       </th> <td>   545.5</td>\n",
       "</tr>\n",
       "<tr>\n",
       "  <th>Date:</th>             <td>Sat, 23 Apr 2016</td> <th>  Prob (F-statistic):</th> <td>2.26e-11</td>\n",
       "</tr>\n",
       "<tr>\n",
       "  <th>Time:</th>                 <td>19:03:27</td>     <th>  Log-Likelihood:    </th> <td> -58.927</td>\n",
       "</tr>\n",
       "<tr>\n",
       "  <th>No. Observations:</th>      <td>    14</td>      <th>  AIC:               </th> <td>   121.9</td>\n",
       "</tr>\n",
       "<tr>\n",
       "  <th>Df Residuals:</th>          <td>    12</td>      <th>  BIC:               </th> <td>   123.1</td>\n",
       "</tr>\n",
       "<tr>\n",
       "  <th>Df Model:</th>              <td>     1</td>      <th>                     </th>     <td> </td>   \n",
       "</tr>\n",
       "<tr>\n",
       "  <th>Covariance Type:</th>      <td>nonrobust</td>    <th>                     </th>     <td> </td>   \n",
       "</tr>\n",
       "</table>\n",
       "<table class=\"simpletable\">\n",
       "<tr>\n",
       "       <td></td>         <th>coef</th>     <th>std err</th>      <th>t</th>      <th>P>|t|</th> <th>[95.0% Conf. Int.]</th> \n",
       "</tr>\n",
       "<tr>\n",
       "  <th>Intercept</th>  <td>  523.8000</td> <td>    8.474</td> <td>   61.812</td> <td> 0.000</td> <td>  505.337   542.263</td>\n",
       "</tr>\n",
       "<tr>\n",
       "  <th>Dispensers</th> <td>   54.8929</td> <td>    2.350</td> <td>   23.356</td> <td> 0.000</td> <td>   49.772    60.014</td>\n",
       "</tr>\n",
       "</table>\n",
       "<table class=\"simpletable\">\n",
       "<tr>\n",
       "  <th>Omnibus:</th>       <td> 2.979</td> <th>  Durbin-Watson:     </th> <td>   0.516</td>\n",
       "</tr>\n",
       "<tr>\n",
       "  <th>Prob(Omnibus):</th> <td> 0.225</td> <th>  Jarque-Bera (JB):  </th> <td>   1.111</td>\n",
       "</tr>\n",
       "<tr>\n",
       "  <th>Skew:</th>          <td> 0.103</td> <th>  Prob(JB):          </th> <td>   0.574</td>\n",
       "</tr>\n",
       "<tr>\n",
       "  <th>Kurtosis:</th>      <td> 1.635</td> <th>  Cond. No.          </th> <td>    6.85</td>\n",
       "</tr>\n",
       "</table>"
      ],
      "text/plain": [
       "<class 'statsmodels.iolib.summary.Summary'>\n",
       "\"\"\"\n",
       "                            OLS Regression Results                            \n",
       "==============================================================================\n",
       "Dep. Variable:                  Sales   R-squared:                       0.978\n",
       "Model:                            OLS   Adj. R-squared:                  0.977\n",
       "Method:                 Least Squares   F-statistic:                     545.5\n",
       "Date:                Sat, 23 Apr 2016   Prob (F-statistic):           2.26e-11\n",
       "Time:                        19:03:27   Log-Likelihood:                -58.927\n",
       "No. Observations:                  14   AIC:                             121.9\n",
       "Df Residuals:                      12   BIC:                             123.1\n",
       "Df Model:                           1                                         \n",
       "Covariance Type:            nonrobust                                         \n",
       "==============================================================================\n",
       "                 coef    std err          t      P>|t|      [95.0% Conf. Int.]\n",
       "------------------------------------------------------------------------------\n",
       "Intercept    523.8000      8.474     61.812      0.000       505.337   542.263\n",
       "Dispensers    54.8929      2.350     23.356      0.000        49.772    60.014\n",
       "==============================================================================\n",
       "Omnibus:                        2.979   Durbin-Watson:                   0.516\n",
       "Prob(Omnibus):                  0.225   Jarque-Bera (JB):                1.111\n",
       "Skew:                           0.103   Prob(JB):                        0.574\n",
       "Kurtosis:                       1.635   Cond. No.                         6.85\n",
       "==============================================================================\n",
       "\n",
       "Warnings:\n",
       "[1] Standard Errors assume that the covariance matrix of the errors is correctly specified.\n",
       "\"\"\""
      ]
     },
     "execution_count": 29,
     "metadata": {},
     "output_type": "execute_result"
    }
   ],
   "source": [
    "Data = { 'Dispensers': Dispensers,\n",
    "        'Sales': Sales}\n",
    "df = pd.DataFrame(Data,columns=['Dispensers','Sales'])\n",
    "linear_model1 = sm.formula.ols(formula='Sales ~ Dispensers',data=df).fit()\n",
    "linear_model1.summary()"
   ]
  },
  {
   "cell_type": "markdown",
   "metadata": {},
   "source": [
    "### Plot the residual summary"
   ]
  },
  {
   "cell_type": "code",
   "execution_count": 30,
   "metadata": {
    "collapsed": false
   },
   "outputs": [
    {
     "data": {
      "image/png": "[encoded data removed]",
      "text/plain": [
       "<matplotlib.figure.Figure at 0x117a79fd0>"
      ]
     },
     "metadata": {},
     "output_type": "display_data"
    }
   ],
   "source": [
    "fig = plt.figure(figsize=(12,8))\n",
    "fig=sm.graphics.plot_regress_exog(linear_model1,'Dispensers',fig=fig)"
   ]
  },
  {
   "cell_type": "markdown",
   "metadata": {},
   "source": [
    "### Improving the model with a squared term, the R-Squared value has increased"
   ]
  },
  {
   "cell_type": "code",
   "execution_count": 31,
   "metadata": {
    "collapsed": false
   },
   "outputs": [
    {
     "data": {
      "text/html": [
       "<table class=\"simpletable\">\n",
       "<caption>OLS Regression Results</caption>\n",
       "<tr>\n",
       "  <th>Dep. Variable:</th>          <td>Sales</td>      <th>  R-squared:         </th> <td>   0.996</td>\n",
       "</tr>\n",
       "<tr>\n",
       "  <th>Model:</th>                   <td>OLS</td>       <th>  Adj. R-squared:    </th> <td>   0.995</td>\n",
       "</tr>\n",
       "<tr>\n",
       "  <th>Method:</th>             <td>Least Squares</td>  <th>  F-statistic:       </th> <td>   1391.</td>\n",
       "</tr>\n",
       "<tr>\n",
       "  <th>Date:</th>             <td>Sat, 23 Apr 2016</td> <th>  Prob (F-statistic):</th> <td>5.95e-14</td>\n",
       "</tr>\n",
       "<tr>\n",
       "  <th>Time:</th>                 <td>19:03:29</td>     <th>  Log-Likelihood:    </th> <td> -47.038</td>\n",
       "</tr>\n",
       "<tr>\n",
       "  <th>No. Observations:</th>      <td>    14</td>      <th>  AIC:               </th> <td>   100.1</td>\n",
       "</tr>\n",
       "<tr>\n",
       "  <th>Df Residuals:</th>          <td>    11</td>      <th>  BIC:               </th> <td>   102.0</td>\n",
       "</tr>\n",
       "<tr>\n",
       "  <th>Df Model:</th>              <td>     2</td>      <th>                     </th>     <td> </td>   \n",
       "</tr>\n",
       "<tr>\n",
       "  <th>Covariance Type:</th>      <td>nonrobust</td>    <th>                     </th>     <td> </td>   \n",
       "</tr>\n",
       "</table>\n",
       "<table class=\"simpletable\">\n",
       "<tr>\n",
       "       <td></td>          <th>coef</th>     <th>std err</th>      <th>t</th>      <th>P>|t|</th> <th>[95.0% Conf. Int.]</th> \n",
       "</tr>\n",
       "<tr>\n",
       "  <th>Intercept</th>   <td>  502.5560</td> <td>    4.850</td> <td>  103.619</td> <td> 0.000</td> <td>  491.881   513.231</td>\n",
       "</tr>\n",
       "<tr>\n",
       "  <th>Dispensers</th>  <td>   80.3857</td> <td>    3.786</td> <td>   21.232</td> <td> 0.000</td> <td>   72.053    88.719</td>\n",
       "</tr>\n",
       "<tr>\n",
       "  <th>Dispensers2</th> <td>   -4.2488</td> <td>    0.606</td> <td>   -7.008</td> <td> 0.000</td> <td>   -5.583    -2.914</td>\n",
       "</tr>\n",
       "</table>\n",
       "<table class=\"simpletable\">\n",
       "<tr>\n",
       "  <th>Omnibus:</th>       <td> 1.946</td> <th>  Durbin-Watson:     </th> <td>   1.698</td>\n",
       "</tr>\n",
       "<tr>\n",
       "  <th>Prob(Omnibus):</th> <td> 0.378</td> <th>  Jarque-Bera (JB):  </th> <td>   0.919</td>\n",
       "</tr>\n",
       "<tr>\n",
       "  <th>Skew:</th>          <td>-0.057</td> <th>  Prob(JB):          </th> <td>   0.632</td>\n",
       "</tr>\n",
       "<tr>\n",
       "  <th>Kurtosis:</th>      <td> 1.750</td> <th>  Cond. No.          </th> <td>    51.2</td>\n",
       "</tr>\n",
       "</table>"
      ],
      "text/plain": [
       "<class 'statsmodels.iolib.summary.Summary'>\n",
       "\"\"\"\n",
       "                            OLS Regression Results                            \n",
       "==============================================================================\n",
       "Dep. Variable:                  Sales   R-squared:                       0.996\n",
       "Model:                            OLS   Adj. R-squared:                  0.995\n",
       "Method:                 Least Squares   F-statistic:                     1391.\n",
       "Date:                Sat, 23 Apr 2016   Prob (F-statistic):           5.95e-14\n",
       "Time:                        19:03:29   Log-Likelihood:                -47.038\n",
       "No. Observations:                  14   AIC:                             100.1\n",
       "Df Residuals:                      11   BIC:                             102.0\n",
       "Df Model:                           2                                         \n",
       "Covariance Type:            nonrobust                                         \n",
       "===============================================================================\n",
       "                  coef    std err          t      P>|t|      [95.0% Conf. Int.]\n",
       "-------------------------------------------------------------------------------\n",
       "Intercept     502.5560      4.850    103.619      0.000       491.881   513.231\n",
       "Dispensers     80.3857      3.786     21.232      0.000        72.053    88.719\n",
       "Dispensers2    -4.2488      0.606     -7.008      0.000        -5.583    -2.914\n",
       "==============================================================================\n",
       "Omnibus:                        1.946   Durbin-Watson:                   1.698\n",
       "Prob(Omnibus):                  0.378   Jarque-Bera (JB):                0.919\n",
       "Skew:                          -0.057   Prob(JB):                        0.632\n",
       "Kurtosis:                       1.750   Cond. No.                         51.2\n",
       "==============================================================================\n",
       "\n",
       "Warnings:\n",
       "[1] Standard Errors assume that the covariance matrix of the errors is correctly specified.\n",
       "\"\"\""
      ]
     },
     "execution_count": 31,
     "metadata": {},
     "output_type": "execute_result"
    }
   ],
   "source": [
    "Data = { 'Dispensers': Dispensers,\n",
    "        'Dispensers2': Dispensers**2,\n",
    "        'Sales': Sales}\n",
    "df2 = pd.DataFrame(Data,columns=['Dispensers','Sales','Dispensers2'])\n",
    "linear_model2 = sm.formula.ols(formula='Sales ~ Dispensers+Dispensers2',data=df2).fit()\n",
    "linear_model2.summary()"
   ]
  },
  {
   "cell_type": "code",
   "execution_count": 32,
   "metadata": {
    "collapsed": false
   },
   "outputs": [
    {
     "data": {
      "image/png": "[encoded data removed]",
      "text/plain": [
       "<matplotlib.figure.Figure at 0x117a79cc0>"
      ]
     },
     "metadata": {},
     "output_type": "display_data"
    }
   ],
   "source": [
    "fig = plt.figure(figsize=(12,8))\n",
    "fig=sm.graphics.plot_regress_exog(linear_model2,'Dispensers',fig=fig)"
   ]
  },
  {
   "cell_type": "markdown",
   "metadata": {},
   "source": [
    "## Resources for further reading:"
   ]
  },
  {
   "cell_type": "markdown",
   "metadata": {},
   "source": [
    "### 10 Minutes to Pandas: A good reference for dataframe manipulation. http://pandas.pydata.org/pandas-docs/stable/10min.html"
   ]
  },
  {
   "cell_type": "markdown",
   "metadata": {},
   "source": [
    "### Pandas cookbook: Short notebooks with more examples using Pandas. https://github.com/jvns/pandas-cookbook"
   ]
  },
  {
   "cell_type": "markdown",
   "metadata": {},
   "source": [
    "### Pandas notebook material from the 2015 NGCM CDT summer academy 2 day course. https://github.com/fonnesbeck/ngcm_pandas_course"
   ]
  },
  {
   "cell_type": "markdown",
   "metadata": {},
   "source": [
    "### StatsModels: A package for statistical functions in Python, compatiable with Pandas. http://statsmodels.sourceforge.net"
   ]
  }
 ],
 "metadata": {
  "kernelspec": {
   "display_name": "Python 3",
   "language": "python",
   "name": "python3"
  },
  "language_info": {
   "codemirror_mode": {
    "name": "ipython",
    "version": 3
   },
   "file_extension": ".py",
   "mimetype": "text/x-python",
   "name": "python",
   "nbconvert_exporter": "python",
   "pygments_lexer": "ipython3",
   "version": "3.4.4"
  }
 },
 "nbformat": 4,
 "nbformat_minor": 0
}
