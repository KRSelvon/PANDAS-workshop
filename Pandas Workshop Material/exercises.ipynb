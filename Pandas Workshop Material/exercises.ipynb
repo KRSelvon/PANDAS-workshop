{
 "cells": [
  {
   "cell_type": "code",
   "execution_count": 2,
   "metadata": {
    "collapsed": true
   },
   "outputs": [],
   "source": [
    "import warnings\n",
    "warnings.filterwarnings('ignore')\n",
    "import pandas as pd\n",
    "import numpy as np\n",
    "from matplotlib import pyplot as plt\n",
    "from pylab import rcParams\n",
    "rcParams['font.family'] = 'serif'\n",
    "rcParams['font.size'] = 16\n",
    "rcParams['figure.figsize'] = 5, 10\n",
    "%matplotlib inline"
   ]
  },
  {
   "cell_type": "markdown",
   "metadata": {},
   "source": [
    "# FEEG6003 Pandas workshop - Exercises"
   ]
  },
  {
   "cell_type": "markdown",
   "metadata": {},
   "source": [
    "## Question 1 - Student sprint times"
   ]
  },
  {
   "cell_type": "markdown",
   "metadata": {},
   "source": [
    "### Q1 (a) Find the mean, fastest and slowest of the 100m race times."
   ]
  },
  {
   "cell_type": "code",
   "execution_count": 160,
   "metadata": {
    "collapsed": false,
    "scrolled": true
   },
   "outputs": [
    {
     "data": {
      "text/html": [
       "<div>\n",
       "<table border=\"1\" class=\"dataframe\">\n",
       "  <thead>\n",
       "    <tr style=\"text-align: right;\">\n",
       "      <th></th>\n",
       "      <th>Student</th>\n",
       "      <th>Gender</th>\n",
       "      <th>100m(s)</th>\n",
       "      <th>200m(s)</th>\n",
       "    </tr>\n",
       "  </thead>\n",
       "  <tbody>\n",
       "    <tr>\n",
       "      <th>0</th>\n",
       "      <td>Timothy</td>\n",
       "      <td>M</td>\n",
       "      <td>12.0</td>\n",
       "      <td>23.4</td>\n",
       "    </tr>\n",
       "    <tr>\n",
       "      <th>1</th>\n",
       "      <td>Rajesh</td>\n",
       "      <td>M</td>\n",
       "      <td>12.4</td>\n",
       "      <td>25.8</td>\n",
       "    </tr>\n",
       "    <tr>\n",
       "      <th>2</th>\n",
       "      <td>Gunther</td>\n",
       "      <td>M</td>\n",
       "      <td>15.0</td>\n",
       "      <td>26.2</td>\n",
       "    </tr>\n",
       "    <tr>\n",
       "      <th>3</th>\n",
       "      <td>Fernando</td>\n",
       "      <td>M</td>\n",
       "      <td>9.5</td>\n",
       "      <td>21.8</td>\n",
       "    </tr>\n",
       "    <tr>\n",
       "      <th>4</th>\n",
       "      <td>Claude</td>\n",
       "      <td>M</td>\n",
       "      <td>12.3</td>\n",
       "      <td>24.7</td>\n",
       "    </tr>\n",
       "    <tr>\n",
       "      <th>5</th>\n",
       "      <td>Sarah</td>\n",
       "      <td>F</td>\n",
       "      <td>11.4</td>\n",
       "      <td>25.5</td>\n",
       "    </tr>\n",
       "    <tr>\n",
       "      <th>6</th>\n",
       "      <td>Juanita</td>\n",
       "      <td>F</td>\n",
       "      <td>10.9</td>\n",
       "      <td>23.6</td>\n",
       "    </tr>\n",
       "    <tr>\n",
       "      <th>7</th>\n",
       "      <td>Poonam</td>\n",
       "      <td>F</td>\n",
       "      <td>12.6</td>\n",
       "      <td>24.0</td>\n",
       "    </tr>\n",
       "    <tr>\n",
       "      <th>8</th>\n",
       "      <td>Jing</td>\n",
       "      <td>F</td>\n",
       "      <td>12.5</td>\n",
       "      <td>28.1</td>\n",
       "    </tr>\n",
       "    <tr>\n",
       "      <th>9</th>\n",
       "      <td>Fatima</td>\n",
       "      <td>F</td>\n",
       "      <td>17.3</td>\n",
       "      <td>23.0</td>\n",
       "    </tr>\n",
       "  </tbody>\n",
       "</table>\n",
       "</div>"
      ],
      "text/plain": [
       "    Student Gender  100m(s)  200m(s)\n",
       "0   Timothy      M     12.0     23.4\n",
       "1    Rajesh      M     12.4     25.8\n",
       "2   Gunther      M     15.0     26.2\n",
       "3  Fernando      M      9.5     21.8\n",
       "4    Claude      M     12.3     24.7\n",
       "5     Sarah      F     11.4     25.5\n",
       "6   Juanita      F     10.9     23.6\n",
       "7    Poonam      F     12.6     24.0\n",
       "8      Jing      F     12.5     28.1\n",
       "9    Fatima      F     17.3     23.0"
      ]
     },
     "execution_count": 160,
     "metadata": {},
     "output_type": "execute_result"
    }
   ],
   "source": [
    "sprint_data = { 'Student': ['Timothy','Rajesh','Gunther','Fernando','Claude','Sarah','Juanita',\n",
    "                               'Poonam','Jing','Fatima'],\n",
    "            'Gender': ['M','M','M','M','M','F','F','F','F','F'],\n",
    "             '100m(s)': [12.0,12.4,15,9.5,12.3,11.4,10.9,12.6,12.5,17.3],\n",
    "             '200m(s)':[23.4,25.8,26.2,21.8,24.7,25.5,23.6,24.0,28.1,23.0]}\n",
    "sprintdataframe = pd.DataFrame(sprint_data,columns=['Student','Gender','100m(s)','200m(s)'])\n",
    "sprintdataframe"
   ]
  },
  {
   "cell_type": "code",
   "execution_count": null,
   "metadata": {
    "collapsed": false
   },
   "outputs": [],
   "source": []
  },
  {
   "cell_type": "markdown",
   "metadata": {},
   "source": [
    "### Q1 (b) Use the pivot_table command with gender as the columns, to compare the mean 100m and 200m times for each gender. Change the aggfunc argument to find comparions of the standard deviation and mean."
   ]
  },
  {
   "cell_type": "code",
   "execution_count": null,
   "metadata": {
    "collapsed": false
   },
   "outputs": [],
   "source": []
  },
  {
   "cell_type": "markdown",
   "metadata": {},
   "source": [
    "## Question 2 - Using police crime statistics data for Hampshire"
   ]
  },
  {
   "cell_type": "markdown",
   "metadata": {},
   "source": [
    "### The data used for this exercise is available at https://data.police.uk/data/. We have selected 24 months of crime statistics for the Hampshire region. This exercises continues the demonstration code, which should be used as a reference. "
   ]
  },
  {
   "cell_type": "markdown",
   "metadata": {},
   "source": [
    "### The files have been read in for you, and the data cleaned up to leave only the month, location and crime type"
   ]
  },
  {
   "cell_type": "code",
   "execution_count": 3,
   "metadata": {
    "collapsed": false
   },
   "outputs": [],
   "source": [
    "files = !ls ./police/*/*.csv # IPython magic to find csv files in different folders\n",
    "police_data = pd.concat([pd.read_csv(f) for f in files])"
   ]
  },
  {
   "cell_type": "code",
   "execution_count": 4,
   "metadata": {
    "collapsed": true
   },
   "outputs": [],
   "source": [
    "discarded_columns = ['Longitude', 'Latitude', 'Crime ID', 'Reported by', 'Falls within',\\\n",
    "                     'LSOA code', 'LSOA name', 'Last outcome category', 'Context']"
   ]
  },
  {
   "cell_type": "code",
   "execution_count": 5,
   "metadata": {
    "collapsed": false
   },
   "outputs": [
    {
     "data": {
      "text/html": [
       "<div>\n",
       "<table border=\"1\" class=\"dataframe\">\n",
       "  <thead>\n",
       "    <tr style=\"text-align: right;\">\n",
       "      <th></th>\n",
       "      <th>Month</th>\n",
       "      <th>Location</th>\n",
       "      <th>Crime type</th>\n",
       "    </tr>\n",
       "  </thead>\n",
       "  <tbody>\n",
       "    <tr>\n",
       "      <th>0</th>\n",
       "      <td>2014-02</td>\n",
       "      <td>On or near The Beeches</td>\n",
       "      <td>Anti-social behaviour</td>\n",
       "    </tr>\n",
       "    <tr>\n",
       "      <th>1</th>\n",
       "      <td>2014-02</td>\n",
       "      <td>On or near The Beeches</td>\n",
       "      <td>Anti-social behaviour</td>\n",
       "    </tr>\n",
       "    <tr>\n",
       "      <th>2</th>\n",
       "      <td>2014-02</td>\n",
       "      <td>On or near Sarisbury Close</td>\n",
       "      <td>Burglary</td>\n",
       "    </tr>\n",
       "    <tr>\n",
       "      <th>3</th>\n",
       "      <td>2014-02</td>\n",
       "      <td>On or near Honeybottom Road</td>\n",
       "      <td>Criminal damage and arson</td>\n",
       "    </tr>\n",
       "    <tr>\n",
       "      <th>4</th>\n",
       "      <td>2014-02</td>\n",
       "      <td>On or near The Beeches</td>\n",
       "      <td>Criminal damage and arson</td>\n",
       "    </tr>\n",
       "  </tbody>\n",
       "</table>\n",
       "</div>"
      ],
      "text/plain": [
       "     Month                     Location                 Crime type\n",
       "0  2014-02       On or near The Beeches      Anti-social behaviour\n",
       "1  2014-02       On or near The Beeches      Anti-social behaviour\n",
       "2  2014-02   On or near Sarisbury Close                   Burglary\n",
       "3  2014-02  On or near Honeybottom Road  Criminal damage and arson\n",
       "4  2014-02       On or near The Beeches  Criminal damage and arson"
      ]
     },
     "execution_count": 5,
     "metadata": {},
     "output_type": "execute_result"
    }
   ],
   "source": [
    "police_data = police_data.drop(discarded_columns, axis=1)\n",
    "police_data.head()"
   ]
  },
  {
   "cell_type": "code",
   "execution_count": 6,
   "metadata": {
    "collapsed": false
   },
   "outputs": [],
   "source": [
    "police_data['Month'] = pd.to_datetime(police_data['Month'])"
   ]
  },
  {
   "cell_type": "markdown",
   "metadata": {},
   "source": [
    "### Q2 (a) Find the most frequently committed crime in the road that you live over the entire two year period using dataframe masking and the str.contains function"
   ]
  },
  {
   "cell_type": "code",
   "execution_count": null,
   "metadata": {
    "collapsed": false
   },
   "outputs": [],
   "source": []
  },
  {
   "cell_type": "markdown",
   "metadata": {},
   "source": [
    "### Q2 (b) During which month on your road did the maxmimum number of Anti-social behaviour  crimes take place?"
   ]
  },
  {
   "cell_type": "code",
   "execution_count": null,
   "metadata": {
    "collapsed": false
   },
   "outputs": [],
   "source": []
  },
  {
   "cell_type": "markdown",
   "metadata": {},
   "source": [
    "### Q2(c) Plot a line chart of the monthly variation for Anti-social behaviour on your road for the two year period. "
   ]
  },
  {
   "cell_type": "code",
   "execution_count": null,
   "metadata": {
    "collapsed": false
   },
   "outputs": [],
   "source": []
  },
  {
   "cell_type": "markdown",
   "metadata": {},
   "source": [
    "### Q2(d) Using an or specifier \"|\", find the 5 roads or avenues which have the highest total crime count"
   ]
  },
  {
   "cell_type": "code",
   "execution_count": null,
   "metadata": {
    "collapsed": false
   },
   "outputs": [],
   "source": []
  },
  {
   "cell_type": "code",
   "execution_count": null,
   "metadata": {
    "collapsed": false
   },
   "outputs": [],
   "source": []
  },
  {
   "cell_type": "markdown",
   "metadata": {},
   "source": [
    "### Q2(e) Find the mean crime count per road using describe. How does it compare to your road?"
   ]
  },
  {
   "cell_type": "code",
   "execution_count": null,
   "metadata": {
    "collapsed": false,
    "scrolled": true
   },
   "outputs": [],
   "source": []
  },
  {
   "cell_type": "markdown",
   "metadata": {},
   "source": [
    "### Q2(f) (optional) :Wrap the code you have written into a function which takes a month and location as input arguments and produces a bar chart breakdown for the number of each criminal offense. "
   ]
  },
  {
   "cell_type": "code",
   "execution_count": null,
   "metadata": {
    "collapsed": false
   },
   "outputs": [],
   "source": []
  },
  {
   "cell_type": "markdown",
   "metadata": {},
   "source": [
    "## Q3 Movie ratings"
   ]
  },
  {
   "cell_type": "markdown",
   "metadata": {},
   "source": [
    "### In this question you are given a database of online movie ratings from the movielens project: http://grouplens.org/datasets/movielens/. The dataset contains only 100K ratings to keep the memory requirements low, there is a larger dataset of 22M ratings which can be found at http://files.grouplens.org/datasets/movielens/ml-latest.zip. Not advised on the virtual machine. \n",
    "### The larger dataset works fine on the Macbook air, (8GB RAM) and will give you better results if your machine can handle it. Warning: 620MB file. "
   ]
  },
  {
   "cell_type": "markdown",
   "metadata": {},
   "source": [
    "### Q3 (a) Read the files \"movies.csv\" and \"ratings.csv\" from the ml-latest-small directory into separate dataframes and print the first 5 lines of each. Which column links the two datasets? "
   ]
  },
  {
   "cell_type": "code",
   "execution_count": null,
   "metadata": {
    "collapsed": false
   },
   "outputs": [],
   "source": []
  },
  {
   "cell_type": "code",
   "execution_count": null,
   "metadata": {
    "collapsed": false
   },
   "outputs": [],
   "source": []
  },
  {
   "cell_type": "markdown",
   "metadata": {},
   "source": [
    "### Q3 (b) Merge the two data sets to link the data by movie ID, using the merge command. Check that your new dataframe now contains both film titles and ratings. "
   ]
  },
  {
   "cell_type": "code",
   "execution_count": null,
   "metadata": {
    "collapsed": false
   },
   "outputs": [],
   "source": []
  },
  {
   "cell_type": "markdown",
   "metadata": {},
   "source": [
    "### Q3 (c) Remove the columns \"userId\", \"movieId\" and \"timestamp\""
   ]
  },
  {
   "cell_type": "code",
   "execution_count": null,
   "metadata": {
    "collapsed": false
   },
   "outputs": [],
   "source": []
  },
  {
   "cell_type": "markdown",
   "metadata": {},
   "source": [
    "### Q3 (d) Group the films by title and produce a series with .size() to find the number of user ratings per film. This series can be used as a mask to filter films above a certain number of user ratings. Check the series lists the number of user ratings per film."
   ]
  },
  {
   "cell_type": "code",
   "execution_count": null,
   "metadata": {
    "collapsed": false
   },
   "outputs": [],
   "source": []
  },
  {
   "cell_type": "markdown",
   "metadata": {},
   "source": [
    "### Q3 (e) Group the films by title and extract the mean of the rating column for each, sort these values in descending order. Print the top five and bottom five films by average rating."
   ]
  },
  {
   "cell_type": "code",
   "execution_count": null,
   "metadata": {
    "collapsed": false,
    "scrolled": true
   },
   "outputs": [],
   "source": []
  },
  {
   "cell_type": "code",
   "execution_count": null,
   "metadata": {
    "collapsed": false,
    "scrolled": true
   },
   "outputs": [],
   "source": []
  },
  {
   "cell_type": "markdown",
   "metadata": {},
   "source": [
    "### Repeat the output above, but apply the number of users mask for films with greater than 10 ratings. Experiment with higher number of user ratings and observe how the output changes."
   ]
  },
  {
   "cell_type": "code",
   "execution_count": null,
   "metadata": {
    "collapsed": false,
    "scrolled": true
   },
   "outputs": [],
   "source": []
  },
  {
   "cell_type": "code",
   "execution_count": null,
   "metadata": {
    "collapsed": false
   },
   "outputs": [],
   "source": []
  },
  {
   "cell_type": "markdown",
   "metadata": {},
   "source": [
    "### Q3 (f) Filter the original dataframe to films released in the year you were born, hint: str.contains(\"(year)\")"
   ]
  },
  {
   "cell_type": "code",
   "execution_count": null,
   "metadata": {
    "collapsed": false,
    "scrolled": true
   },
   "outputs": [],
   "source": []
  },
  {
   "cell_type": "code",
   "execution_count": null,
   "metadata": {
    "collapsed": false
   },
   "outputs": [],
   "source": []
  },
  {
   "cell_type": "markdown",
   "metadata": {},
   "source": [
    "### Q3 (g) Find the list of unique genres and filter your dataframe for your favourite genre for that year."
   ]
  },
  {
   "cell_type": "code",
   "execution_count": null,
   "metadata": {
    "collapsed": false
   },
   "outputs": [],
   "source": []
  },
  {
   "cell_type": "markdown",
   "metadata": {},
   "source": [
    "### Q3 (h) Extract the films for your chosen year and genre into a new dataframe. "
   ]
  },
  {
   "cell_type": "code",
   "execution_count": null,
   "metadata": {
    "collapsed": false
   },
   "outputs": [],
   "source": []
  },
  {
   "cell_type": "markdown",
   "metadata": {},
   "source": [
    "### Q3 (i) Filter the films with greater than 10 ratings."
   ]
  },
  {
   "cell_type": "code",
   "execution_count": null,
   "metadata": {
    "collapsed": false,
    "scrolled": true
   },
   "outputs": [],
   "source": []
  },
  {
   "cell_type": "code",
   "execution_count": null,
   "metadata": {
    "collapsed": true
   },
   "outputs": [],
   "source": []
  }
 ],
 "metadata": {
  "kernelspec": {
   "display_name": "Python 3",
   "language": "python",
   "name": "python3"
  },
  "language_info": {
   "codemirror_mode": {
    "name": "ipython",
    "version": 3
   },
   "file_extension": ".py",
   "mimetype": "text/x-python",
   "name": "python",
   "nbconvert_exporter": "python",
   "pygments_lexer": "ipython3",
   "version": "3.5.1"
  }
 },
 "nbformat": 4,
 "nbformat_minor": 0
}
